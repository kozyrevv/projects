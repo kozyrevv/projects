{
 "cells": [
  {
   "cell_type": "code",
   "execution_count": 266,
   "metadata": {},
   "outputs": [],
   "source": [
    "import pandas as pd\n",
    "import numpy as np\n",
    "\n",
    "import seaborn as sns\n",
    "import matplotlib.pyplot as plt\n",
    "\n",
    "%matplotlib inline\n",
    "\n",
    "pd.options.display.max_columns=30"
   ]
  },
  {
   "cell_type": "code",
   "execution_count": 267,
   "metadata": {},
   "outputs": [
    {
     "data": {
      "text/html": [
       "<div>\n",
       "<style scoped>\n",
       "    .dataframe tbody tr th:only-of-type {\n",
       "        vertical-align: middle;\n",
       "    }\n",
       "\n",
       "    .dataframe tbody tr th {\n",
       "        vertical-align: top;\n",
       "    }\n",
       "\n",
       "    .dataframe thead th {\n",
       "        text-align: right;\n",
       "    }\n",
       "</style>\n",
       "<table border=\"1\" class=\"dataframe\">\n",
       "  <thead>\n",
       "    <tr style=\"text-align: right;\">\n",
       "      <th></th>\n",
       "      <th>ID_GRUPO</th>\n",
       "      <th>ID_KEYWORD</th>\n",
       "      <th>FECHA</th>\n",
       "      <th>IMPRESSIONS</th>\n",
       "      <th>CLICKS</th>\n",
       "      <th>KEYWORD</th>\n",
       "    </tr>\n",
       "  </thead>\n",
       "  <tbody>\n",
       "    <tr>\n",
       "      <th>0</th>\n",
       "      <td>13621622603</td>\n",
       "      <td>19921742269</td>\n",
       "      <td>20180101</td>\n",
       "      <td>4</td>\n",
       "      <td>0</td>\n",
       "      <td>+radiator +repair</td>\n",
       "    </tr>\n",
       "    <tr>\n",
       "      <th>1</th>\n",
       "      <td>13621622603</td>\n",
       "      <td>21439723136</td>\n",
       "      <td>20180101</td>\n",
       "      <td>2</td>\n",
       "      <td>0</td>\n",
       "      <td>+used +alloy +wheels</td>\n",
       "    </tr>\n",
       "    <tr>\n",
       "      <th>2</th>\n",
       "      <td>13621622603</td>\n",
       "      <td>22493584405</td>\n",
       "      <td>20180101</td>\n",
       "      <td>1</td>\n",
       "      <td>0</td>\n",
       "      <td>+mazda +in +australia</td>\n",
       "    </tr>\n",
       "    <tr>\n",
       "      <th>3</th>\n",
       "      <td>13621622603</td>\n",
       "      <td>23261625721</td>\n",
       "      <td>20180101</td>\n",
       "      <td>2</td>\n",
       "      <td>0</td>\n",
       "      <td>+patterson +cheney</td>\n",
       "    </tr>\n",
       "    <tr>\n",
       "      <th>4</th>\n",
       "      <td>13621622603</td>\n",
       "      <td>24274422897</td>\n",
       "      <td>20180101</td>\n",
       "      <td>1</td>\n",
       "      <td>0</td>\n",
       "      <td>+ford +focus +2002</td>\n",
       "    </tr>\n",
       "  </tbody>\n",
       "</table>\n",
       "</div>"
      ],
      "text/plain": [
       "      ID_GRUPO   ID_KEYWORD     FECHA  IMPRESSIONS  CLICKS  \\\n",
       "0  13621622603  19921742269  20180101            4       0   \n",
       "1  13621622603  21439723136  20180101            2       0   \n",
       "2  13621622603  22493584405  20180101            1       0   \n",
       "3  13621622603  23261625721  20180101            2       0   \n",
       "4  13621622603  24274422897  20180101            1       0   \n",
       "\n",
       "                 KEYWORD  \n",
       "0      +radiator +repair  \n",
       "1   +used +alloy +wheels  \n",
       "2  +mazda +in +australia  \n",
       "3     +patterson +cheney  \n",
       "4     +ford +focus +2002  "
      ]
     },
     "execution_count": 267,
     "metadata": {},
     "output_type": "execute_result"
    }
   ],
   "source": [
    "df = pd.read_csv('edi.csv', sep='\\t', nrows= 10000)\n",
    "df.head()"
   ]
  },
  {
   "cell_type": "code",
   "execution_count": 315,
   "metadata": {},
   "outputs": [
    {
     "data": {
      "text/plain": [
       "ID_GRUPO\n",
       "13621622603    122\n",
       "13621622723     93\n",
       "13621622843     17\n",
       "13621622963     91\n",
       "13621623083     57\n",
       "Name: CLICKS, dtype: int64"
      ]
     },
     "execution_count": 315,
     "metadata": {},
     "output_type": "execute_result"
    }
   ],
   "source": [
    "#IDENTIFYING NUMBER OF GROUPS\n",
    "\n",
    "df.groupby('ID_GRUPO')['CLICKS'].count().head()\n",
    "\n",
    "\n",
    "#more than 100..."
   ]
  },
  {
   "cell_type": "code",
   "execution_count": 318,
   "metadata": {},
   "outputs": [
    {
     "data": {
      "text/plain": [
       "ID_KEYWORD\n",
       "2989718045    1\n",
       "3304408726    1\n",
       "3724544912    1\n",
       "4707527969    1\n",
       "5635761169    1\n",
       "Name: CLICKS, dtype: int64"
      ]
     },
     "execution_count": 318,
     "metadata": {},
     "output_type": "execute_result"
    }
   ],
   "source": [
    "#IDENTIFYING NUMBER OF KW GROUPS\n",
    "\n",
    "df.groupby('ID_KEYWORD')['CLICKS'].count().head()\n",
    "\n",
    "#more than 100..."
   ]
  },
  {
   "cell_type": "code",
   "execution_count": 270,
   "metadata": {},
   "outputs": [
    {
     "data": {
      "text/html": [
       "<div>\n",
       "<style scoped>\n",
       "    .dataframe tbody tr th:only-of-type {\n",
       "        vertical-align: middle;\n",
       "    }\n",
       "\n",
       "    .dataframe tbody tr th {\n",
       "        vertical-align: top;\n",
       "    }\n",
       "\n",
       "    .dataframe thead th {\n",
       "        text-align: right;\n",
       "    }\n",
       "</style>\n",
       "<table border=\"1\" class=\"dataframe\">\n",
       "  <thead>\n",
       "    <tr style=\"text-align: right;\">\n",
       "      <th></th>\n",
       "      <th>ID_GRUPO</th>\n",
       "      <th>ID_KEYWORD</th>\n",
       "      <th>FECHA</th>\n",
       "      <th>IMPRESSIONS</th>\n",
       "      <th>CLICKS</th>\n",
       "      <th>KEYWORD</th>\n",
       "      <th>KEYWORD_LENGHT</th>\n",
       "    </tr>\n",
       "  </thead>\n",
       "  <tbody>\n",
       "    <tr>\n",
       "      <th>0</th>\n",
       "      <td>13621622603</td>\n",
       "      <td>19921742269</td>\n",
       "      <td>20180101</td>\n",
       "      <td>4</td>\n",
       "      <td>0</td>\n",
       "      <td>+radiator +repair</td>\n",
       "      <td>17</td>\n",
       "    </tr>\n",
       "    <tr>\n",
       "      <th>1</th>\n",
       "      <td>13621622603</td>\n",
       "      <td>21439723136</td>\n",
       "      <td>20180101</td>\n",
       "      <td>2</td>\n",
       "      <td>0</td>\n",
       "      <td>+used +alloy +wheels</td>\n",
       "      <td>20</td>\n",
       "    </tr>\n",
       "    <tr>\n",
       "      <th>2</th>\n",
       "      <td>13621622603</td>\n",
       "      <td>22493584405</td>\n",
       "      <td>20180101</td>\n",
       "      <td>1</td>\n",
       "      <td>0</td>\n",
       "      <td>+mazda +in +australia</td>\n",
       "      <td>21</td>\n",
       "    </tr>\n",
       "    <tr>\n",
       "      <th>3</th>\n",
       "      <td>13621622603</td>\n",
       "      <td>23261625721</td>\n",
       "      <td>20180101</td>\n",
       "      <td>2</td>\n",
       "      <td>0</td>\n",
       "      <td>+patterson +cheney</td>\n",
       "      <td>18</td>\n",
       "    </tr>\n",
       "    <tr>\n",
       "      <th>4</th>\n",
       "      <td>13621622603</td>\n",
       "      <td>24274422897</td>\n",
       "      <td>20180101</td>\n",
       "      <td>1</td>\n",
       "      <td>0</td>\n",
       "      <td>+ford +focus +2002</td>\n",
       "      <td>18</td>\n",
       "    </tr>\n",
       "  </tbody>\n",
       "</table>\n",
       "</div>"
      ],
      "text/plain": [
       "      ID_GRUPO   ID_KEYWORD     FECHA  IMPRESSIONS  CLICKS  \\\n",
       "0  13621622603  19921742269  20180101            4       0   \n",
       "1  13621622603  21439723136  20180101            2       0   \n",
       "2  13621622603  22493584405  20180101            1       0   \n",
       "3  13621622603  23261625721  20180101            2       0   \n",
       "4  13621622603  24274422897  20180101            1       0   \n",
       "\n",
       "                 KEYWORD  KEYWORD_LENGHT  \n",
       "0      +radiator +repair              17  \n",
       "1   +used +alloy +wheels              20  \n",
       "2  +mazda +in +australia              21  \n",
       "3     +patterson +cheney              18  \n",
       "4     +ford +focus +2002              18  "
      ]
     },
     "execution_count": 270,
     "metadata": {},
     "output_type": "execute_result"
    }
   ],
   "source": [
    "#KEYWORDS LENGTH COLUMNS CREATION\n",
    "\n",
    "df['KEYWORD_LENGHT'] = df['KEYWORD'].apply(len)\n",
    "df.head()"
   ]
  },
  {
   "cell_type": "code",
   "execution_count": 271,
   "metadata": {},
   "outputs": [
    {
     "data": {
      "text/html": [
       "<div>\n",
       "<style scoped>\n",
       "    .dataframe tbody tr th:only-of-type {\n",
       "        vertical-align: middle;\n",
       "    }\n",
       "\n",
       "    .dataframe tbody tr th {\n",
       "        vertical-align: top;\n",
       "    }\n",
       "\n",
       "    .dataframe thead th {\n",
       "        text-align: right;\n",
       "    }\n",
       "</style>\n",
       "<table border=\"1\" class=\"dataframe\">\n",
       "  <thead>\n",
       "    <tr style=\"text-align: right;\">\n",
       "      <th></th>\n",
       "      <th>ID_GRUPO</th>\n",
       "      <th>ID_KEYWORD</th>\n",
       "      <th>FECHA</th>\n",
       "      <th>IMPRESSIONS</th>\n",
       "      <th>CLICKS</th>\n",
       "      <th>KEYWORD</th>\n",
       "      <th>KEYWORD_LENGHT</th>\n",
       "      <th>CTR</th>\n",
       "    </tr>\n",
       "  </thead>\n",
       "  <tbody>\n",
       "    <tr>\n",
       "      <th>0</th>\n",
       "      <td>13621622603</td>\n",
       "      <td>19921742269</td>\n",
       "      <td>20180101</td>\n",
       "      <td>4</td>\n",
       "      <td>0</td>\n",
       "      <td>+radiator +repair</td>\n",
       "      <td>17</td>\n",
       "      <td>0.0</td>\n",
       "    </tr>\n",
       "    <tr>\n",
       "      <th>1</th>\n",
       "      <td>13621622603</td>\n",
       "      <td>21439723136</td>\n",
       "      <td>20180101</td>\n",
       "      <td>2</td>\n",
       "      <td>0</td>\n",
       "      <td>+used +alloy +wheels</td>\n",
       "      <td>20</td>\n",
       "      <td>0.0</td>\n",
       "    </tr>\n",
       "    <tr>\n",
       "      <th>2</th>\n",
       "      <td>13621622603</td>\n",
       "      <td>22493584405</td>\n",
       "      <td>20180101</td>\n",
       "      <td>1</td>\n",
       "      <td>0</td>\n",
       "      <td>+mazda +in +australia</td>\n",
       "      <td>21</td>\n",
       "      <td>0.0</td>\n",
       "    </tr>\n",
       "    <tr>\n",
       "      <th>3</th>\n",
       "      <td>13621622603</td>\n",
       "      <td>23261625721</td>\n",
       "      <td>20180101</td>\n",
       "      <td>2</td>\n",
       "      <td>0</td>\n",
       "      <td>+patterson +cheney</td>\n",
       "      <td>18</td>\n",
       "      <td>0.0</td>\n",
       "    </tr>\n",
       "    <tr>\n",
       "      <th>4</th>\n",
       "      <td>13621622603</td>\n",
       "      <td>24274422897</td>\n",
       "      <td>20180101</td>\n",
       "      <td>1</td>\n",
       "      <td>0</td>\n",
       "      <td>+ford +focus +2002</td>\n",
       "      <td>18</td>\n",
       "      <td>0.0</td>\n",
       "    </tr>\n",
       "  </tbody>\n",
       "</table>\n",
       "</div>"
      ],
      "text/plain": [
       "      ID_GRUPO   ID_KEYWORD     FECHA  IMPRESSIONS  CLICKS  \\\n",
       "0  13621622603  19921742269  20180101            4       0   \n",
       "1  13621622603  21439723136  20180101            2       0   \n",
       "2  13621622603  22493584405  20180101            1       0   \n",
       "3  13621622603  23261625721  20180101            2       0   \n",
       "4  13621622603  24274422897  20180101            1       0   \n",
       "\n",
       "                 KEYWORD  KEYWORD_LENGHT  CTR  \n",
       "0      +radiator +repair              17  0.0  \n",
       "1   +used +alloy +wheels              20  0.0  \n",
       "2  +mazda +in +australia              21  0.0  \n",
       "3     +patterson +cheney              18  0.0  \n",
       "4     +ford +focus +2002              18  0.0  "
      ]
     },
     "execution_count": 271,
     "metadata": {},
     "output_type": "execute_result"
    }
   ],
   "source": [
    "#CREATE CTR COLUMNS\n",
    "\n",
    "df['CTR'] = df['CLICKS'].divide(df['IMPRESSIONS'], axis=0, level=None, fill_value=None)*100\n",
    "df.head()"
   ]
  },
  {
   "cell_type": "code",
   "execution_count": 272,
   "metadata": {},
   "outputs": [],
   "source": [
    "#ROUND THE % NUMBERS AND CHANGE FLOAT TO INT\n",
    "\n",
    "df['CTR'] = df['CTR'].round().astype(int)"
   ]
  },
  {
   "cell_type": "code",
   "execution_count": 273,
   "metadata": {},
   "outputs": [
    {
     "data": {
      "text/plain": [
       "ID_GRUPO           int64\n",
       "ID_KEYWORD         int64\n",
       "FECHA              int64\n",
       "IMPRESSIONS        int64\n",
       "CLICKS             int64\n",
       "KEYWORD           object\n",
       "KEYWORD_LENGHT     int64\n",
       "CTR                int32\n",
       "dtype: object"
      ]
     },
     "execution_count": 273,
     "metadata": {},
     "output_type": "execute_result"
    }
   ],
   "source": [
    "df.dtypes"
   ]
  },
  {
   "cell_type": "code",
   "execution_count": 321,
   "metadata": {},
   "outputs": [
    {
     "data": {
      "text/html": [
       "<div>\n",
       "<style scoped>\n",
       "    .dataframe tbody tr th:only-of-type {\n",
       "        vertical-align: middle;\n",
       "    }\n",
       "\n",
       "    .dataframe tbody tr th {\n",
       "        vertical-align: top;\n",
       "    }\n",
       "\n",
       "    .dataframe thead th {\n",
       "        text-align: right;\n",
       "    }\n",
       "</style>\n",
       "<table border=\"1\" class=\"dataframe\">\n",
       "  <thead>\n",
       "    <tr style=\"text-align: right;\">\n",
       "      <th></th>\n",
       "      <th>ID_GRUPO</th>\n",
       "      <th>ID_KEYWORD</th>\n",
       "      <th>FECHA</th>\n",
       "      <th>IMPRESSIONS</th>\n",
       "      <th>CLICKS</th>\n",
       "      <th>KEYWORD</th>\n",
       "      <th>KEYWORD_LENGHT</th>\n",
       "      <th>CTR</th>\n",
       "    </tr>\n",
       "  </thead>\n",
       "  <tbody>\n",
       "    <tr>\n",
       "      <th>0</th>\n",
       "      <td>13621622603</td>\n",
       "      <td>19921742269</td>\n",
       "      <td>20180101</td>\n",
       "      <td>4</td>\n",
       "      <td>0</td>\n",
       "      <td>+radiator +repair</td>\n",
       "      <td>17</td>\n",
       "      <td>0</td>\n",
       "    </tr>\n",
       "    <tr>\n",
       "      <th>1</th>\n",
       "      <td>13621622603</td>\n",
       "      <td>21439723136</td>\n",
       "      <td>20180101</td>\n",
       "      <td>2</td>\n",
       "      <td>0</td>\n",
       "      <td>+used +alloy +wheels</td>\n",
       "      <td>20</td>\n",
       "      <td>0</td>\n",
       "    </tr>\n",
       "    <tr>\n",
       "      <th>2</th>\n",
       "      <td>13621622603</td>\n",
       "      <td>22493584405</td>\n",
       "      <td>20180101</td>\n",
       "      <td>1</td>\n",
       "      <td>0</td>\n",
       "      <td>+mazda +in +australia</td>\n",
       "      <td>21</td>\n",
       "      <td>0</td>\n",
       "    </tr>\n",
       "    <tr>\n",
       "      <th>3</th>\n",
       "      <td>13621622603</td>\n",
       "      <td>23261625721</td>\n",
       "      <td>20180101</td>\n",
       "      <td>2</td>\n",
       "      <td>0</td>\n",
       "      <td>+patterson +cheney</td>\n",
       "      <td>18</td>\n",
       "      <td>0</td>\n",
       "    </tr>\n",
       "    <tr>\n",
       "      <th>4</th>\n",
       "      <td>13621622603</td>\n",
       "      <td>24274422897</td>\n",
       "      <td>20180101</td>\n",
       "      <td>1</td>\n",
       "      <td>0</td>\n",
       "      <td>+ford +focus +2002</td>\n",
       "      <td>18</td>\n",
       "      <td>0</td>\n",
       "    </tr>\n",
       "  </tbody>\n",
       "</table>\n",
       "</div>"
      ],
      "text/plain": [
       "      ID_GRUPO   ID_KEYWORD     FECHA  IMPRESSIONS  CLICKS  \\\n",
       "0  13621622603  19921742269  20180101            4       0   \n",
       "1  13621622603  21439723136  20180101            2       0   \n",
       "2  13621622603  22493584405  20180101            1       0   \n",
       "3  13621622603  23261625721  20180101            2       0   \n",
       "4  13621622603  24274422897  20180101            1       0   \n",
       "\n",
       "                 KEYWORD  KEYWORD_LENGHT  CTR  \n",
       "0      +radiator +repair              17    0  \n",
       "1   +used +alloy +wheels              20    0  \n",
       "2  +mazda +in +australia              21    0  \n",
       "3     +patterson +cheney              18    0  \n",
       "4     +ford +focus +2002              18    0  "
      ]
     },
     "execution_count": 321,
     "metadata": {},
     "output_type": "execute_result"
    }
   ],
   "source": [
    "df.head()"
   ]
  },
  {
   "cell_type": "code",
   "execution_count": 334,
   "metadata": {},
   "outputs": [
    {
     "data": {
      "text/plain": [
       "0    9084\n",
       "1     862\n",
       "2      47\n",
       "3       6\n",
       "4       1\n",
       "Name: CLICKS, dtype: int64"
      ]
     },
     "execution_count": 334,
     "metadata": {},
     "output_type": "execute_result"
    }
   ],
   "source": [
    "df['CLICKS'].value_counts()"
   ]
  },
  {
   "cell_type": "code",
   "execution_count": 335,
   "metadata": {},
   "outputs": [
    {
     "data": {
      "text/plain": [
       "1      7949\n",
       "2      1402\n",
       "3       366\n",
       "4       156\n",
       "5        47\n",
       "6        24\n",
       "7        14\n",
       "8        11\n",
       "10        6\n",
       "9         4\n",
       "18        3\n",
       "19        2\n",
       "11        2\n",
       "27        2\n",
       "12        2\n",
       "20        1\n",
       "28        1\n",
       "13        1\n",
       "37        1\n",
       "17        1\n",
       "14        1\n",
       "30        1\n",
       "168       1\n",
       "16        1\n",
       "23        1\n",
       "Name: IMPRESSIONS, dtype: int64"
      ]
     },
     "execution_count": 335,
     "metadata": {},
     "output_type": "execute_result"
    }
   ],
   "source": [
    "df['IMPRESSIONS'].value_counts()"
   ]
  },
  {
   "cell_type": "code",
   "execution_count": 341,
   "metadata": {},
   "outputs": [
    {
     "data": {
      "text/plain": [
       "0      9084\n",
       "100     612\n",
       "50      170\n",
       "33       47\n",
       "25       34\n",
       "200       9\n",
       "20        8\n",
       "67        8\n",
       "17        5\n",
       "40        5\n",
       "14        4\n",
       "12        2\n",
       "75        2\n",
       "60        1\n",
       "30        1\n",
       "43        1\n",
       "5         1\n",
       "18        1\n",
       "10        1\n",
       "29        1\n",
       "6         1\n",
       "9         1\n",
       "7         1\n",
       "Name: CTR, dtype: int64"
      ]
     },
     "execution_count": 341,
     "metadata": {},
     "output_type": "execute_result"
    }
   ],
   "source": [
    "df['CTR'].value_counts()"
   ]
  },
  {
   "cell_type": "code",
   "execution_count": 336,
   "metadata": {},
   "outputs": [
    {
     "data": {
      "text/plain": [
       "<matplotlib.axes._subplots.AxesSubplot at 0x1634e734710>"
      ]
     },
     "execution_count": 336,
     "metadata": {},
     "output_type": "execute_result"
    },
    {
     "data": {
      "image/png": "[encoded data removed]",
      "text/plain": [
       "<matplotlib.figure.Figure at 0x1634e731a90>"
      ]
     },
     "metadata": {},
     "output_type": "display_data"
    }
   ],
   "source": [
    "df['KEYWORD_LENGHT'].plot(bins=50, kind='hist') "
   ]
  },
  {
   "cell_type": "code",
   "execution_count": 344,
   "metadata": {},
   "outputs": [
    {
     "data": {
      "text/plain": [
       "<matplotlib.axes._subplots.AxesSubplot at 0x1634e7e8198>"
      ]
     },
     "execution_count": 344,
     "metadata": {},
     "output_type": "execute_result"
    },
    {
     "data": {
      "image/png": "[encoded data removed]",
      "text/plain": [
       "<matplotlib.figure.Figure at 0x1634f88d080>"
      ]
     },
     "metadata": {},
     "output_type": "display_data"
    }
   ],
   "source": [
    "df[df['CTR']>0]['KEYWORD_LENGHT'].plot(bins=50, kind='hist') "
   ]
  },
  {
   "cell_type": "code",
   "execution_count": 346,
   "metadata": {},
   "outputs": [
    {
     "data": {
      "text/plain": [
       "<matplotlib.axes._subplots.AxesSubplot at 0x1634f929c18>"
      ]
     },
     "execution_count": 346,
     "metadata": {},
     "output_type": "execute_result"
    },
    {
     "data": {
      "image/png": "[encoded data removed]",
      "text/plain": [
       "<matplotlib.figure.Figure at 0x1634f8d25f8>"
      ]
     },
     "metadata": {},
     "output_type": "display_data"
    }
   ],
   "source": [
    "sns.boxplot(x='KEYWORD_LENGHT',y='CLICKS',data=df,palette='rainbow')"
   ]
  },
  {
   "cell_type": "code",
   "execution_count": null,
   "metadata": {},
   "outputs": [],
   "source": []
  },
  {
   "cell_type": "code",
   "execution_count": null,
   "metadata": {},
   "outputs": [],
   "source": []
  }
 ],
 "metadata": {
  "kernelspec": {
   "display_name": "Python 3",
   "language": "python",
   "name": "python3"
  },
  "language_info": {
   "codemirror_mode": {
    "name": "ipython",
    "version": 3
   },
   "file_extension": ".py",
   "mimetype": "text/x-python",
   "name": "python",
   "nbconvert_exporter": "python",
   "pygments_lexer": "ipython3",
   "version": "3.6.4"
  }
 },
 "nbformat": 4,
 "nbformat_minor": 2
}
